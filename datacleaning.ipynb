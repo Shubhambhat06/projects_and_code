{
 "cells": [
  {
   "cell_type": "code",
   "execution_count": null,
   "id": "1578b439",
   "metadata": {
    "vscode": {
     "languageId": "plaintext"
    }
   },
   "outputs": [],
   "source": [
    "np.random.seed(67)\n",
    "num_entries = 100\n",
    "data = {\n",
    "    'CustomerID' : range(1 , num_entries + 1)\n",
    "    'FirstName' : \n",
    "}"
   ]
  }
 ],
 "metadata": {
  "language_info": {
   "name": "python"
  }
 },
 "nbformat": 4,
 "nbformat_minor": 5
}
